{
 "cells": [
  {
   "cell_type": "code",
   "execution_count": 1,
   "metadata": {},
   "outputs": [],
   "source": [
    "import neat\n",
    "import numpy as np\n",
    "\n",
    "filename = 'A:/Профиль/Rab Table/Учёба/2/нейроэволюционные/Методические/data_to_use/cancer1 copy.dt'\n",
    "raw_data = np.loadtxt(filename)"
   ]
  },
  {
   "cell_type": "code",
   "execution_count": 2,
   "metadata": {},
   "outputs": [
    {
     "name": "stdout",
     "output_type": "stream",
     "text": [
      "[[0.2 0.1 0.1 ... 0.1 1.  0. ]\n",
      " [0.2 0.1 0.1 ... 0.1 1.  0. ]\n",
      " [0.5 0.1 0.1 ... 0.1 1.  0. ]\n",
      " ...\n",
      " [0.6 1.  1.  ... 0.7 0.  1. ]\n",
      " [0.5 0.7 1.  ... 0.1 0.  1. ]\n",
      " [0.1 0.1 0.1 ... 0.1 1.  0. ]]\n"
     ]
    }
   ],
   "source": [
    "print(raw_data)"
   ]
  },
  {
   "cell_type": "code",
   "execution_count": 19,
   "metadata": {},
   "outputs": [
    {
     "name": "stdout",
     "output_type": "stream",
     "text": [
      "(0.0,)\n",
      "(0.2, 0.1, 0.1, 0.1, 0.2, 0.1, 0.2, 0.1, 0.1)\n"
     ]
    }
   ],
   "source": [
    "# make x and y from x\n",
    "y = raw_data[:, 10] # [: , 9] - это значит, что мы берем все строки, но только столбец с индексом 9\n",
    "x = raw_data[:, 0:9]\n",
    "y = y.astype(float)\n",
    "\n",
    "# make a list 'inputs' of sets from x like this: [(0.0, 0.0), (0.0, 1.0), (1.0, 0.0), (1.0, 1.0)]\n",
    "inputs = []\n",
    "for i in range(len(x)):\n",
    "    inputs.append(tuple(x[i]))\n",
    "\n",
    "# make a list 'outputs' of sets from y like this: [(0.0,), (1.0,), (1.0,), (0.0,)]\n",
    "outputs = []\n",
    "for i in range(len(y)):\n",
    "    outputs.append(tuple([y[i]]))\n",
    "\n",
    "print(outputs[0])\n",
    "print(inputs[0])\n",
    "\n"
   ]
  },
  {
   "cell_type": "code",
   "execution_count": 20,
   "metadata": {},
   "outputs": [],
   "source": [
    "# split x and y into train, validation, test sets\n",
    "from sklearn.model_selection import train_test_split\n",
    "x_train, x_test, y_train, y_test = train_test_split(inputs, outputs, test_size=0.75)"
   ]
  },
  {
   "cell_type": "code",
   "execution_count": 21,
   "metadata": {},
   "outputs": [
    {
     "name": "stdout",
     "output_type": "stream",
     "text": [
      "(0.4, 0.4, 0.2, 0.1, 0.2, 0.5, 0.2, 0.1, 0.2)\n",
      "(0.0,)\n",
      "(0.1, 0.1, 0.1, 0.1, 0.5, 0.1, 0.3, 0.1, 0.1)\n",
      "(0.0,)\n"
     ]
    }
   ],
   "source": [
    "print(x_train[1])\n",
    "print(y_train[1])\n",
    "print(x_test[1])\n",
    "print(y_test[1])"
   ]
  },
  {
   "cell_type": "code",
   "execution_count": 22,
   "metadata": {},
   "outputs": [],
   "source": [
    "import pickle\n",
    "import graphviz"
   ]
  },
  {
   "cell_type": "code",
   "execution_count": 23,
   "metadata": {},
   "outputs": [
    {
     "data": {
      "text/plain": [
       "174"
      ]
     },
     "execution_count": 23,
     "metadata": {},
     "output_type": "execute_result"
    }
   ],
   "source": [
    "len(x_train)"
   ]
  },
  {
   "cell_type": "code",
   "execution_count": 24,
   "metadata": {},
   "outputs": [],
   "source": [
    "import my_visualize as visualize\n",
    "import matplotlib.pyplot as plt"
   ]
  },
  {
   "cell_type": "code",
   "execution_count": 25,
   "metadata": {},
   "outputs": [
    {
     "data": {
      "text/plain": [
       "174"
      ]
     },
     "execution_count": 25,
     "metadata": {},
     "output_type": "execute_result"
    }
   ],
   "source": [
    "len(x_train)"
   ]
  },
  {
   "cell_type": "code",
   "execution_count": null,
   "metadata": {},
   "outputs": [],
   "source": [
    "def eval_genomes(genomes, config):\n",
    "    for genome_id, genome in genomes:\n",
    "        net = neat.nn.FeedForwardNetwork.create(genome, config)\n",
    "        genome.fitness = len(x_train)\n",
    "        for xi, xo in zip(x_train, y_train):\n",
    "            output = net.activate(xi)\n",
    "            output = tuple(output)\n",
    "            try:\n",
    "                genome.fitness -= (output[0] - xo[0]) ** 2\n",
    "                #print(output[0], ' -- ', xo[0], ' -- ', (output[0] - xo[0]) ** 2, genome.fitness, len(x_train))\n",
    "            except Exception as e:\n",
    "                print(output)\n",
    "                print(xo)\n",
    "                print(xi)\n",
    "                print(e)\n",
    "                raise e\n",
    "        debug = 171.5\n",
    "        if (debug < genome.fitness):\n",
    "            debug = genome.fitness\n",
    "            print(genome.fitness, len(x_train))\n",
    "        \n",
    "config_path = 'A:/Профиль/Rab Table/Учёба/2/Neuroevolutionary-computing/Код/config-cancer'\n",
    "config = neat.Config(neat.DefaultGenome, neat.DefaultReproduction,\n",
    "                     neat.DefaultSpeciesSet, neat.DefaultStagnation,\n",
    "                     config_path)\n",
    "population = neat.Population(config)\n",
    "#population.add_reporter(neat.StdOutReporter(True))\n",
    "stats = neat.StatisticsReporter()\n",
    "population.add_reporter(stats)\n",
    "#population.add_reporter(neat.Checkpointer(5))\n",
    "winner = population.run(eval_genomes)\n",
    "winner_net = neat.nn.FeedForwardNetwork.create(winner, config)\n",
    "\n",
    "correct = 0\n",
    "for xi, xo in zip(x_test, y_test):\n",
    "    output = winner_net.activate(xi)\n",
    "    if np.argmax(output) == xo:\n",
    "        correct += 1\n",
    "\n",
    "print('Accuracy:', correct / len(y_test))\n",
    "\n",
    "with open('winner-mnist', 'wb') as f:\n",
    "    pickle.dump(winner, f)"
   ]
  },
  {
   "cell_type": "code",
   "execution_count": null,
   "metadata": {},
   "outputs": [],
   "source": [
    "node_names = {-1: 'x0',\n",
    "               -2: 'x1',\n",
    "                -3: 'x2',\n",
    "                -4: 'x3',\n",
    "                -5: 'x4',\n",
    "                -6: 'x5',\n",
    "                -7: 'x6',\n",
    "                -8: 'x7',\n",
    "                -9: 'x8',\n",
    "                 0: 'OUTPUT'}\n",
    "\n",
    "visualize.draw_net(config, winner, True, node_names=node_names, filename=\"winner-mnist.gv\")"
   ]
  },
  {
   "cell_type": "code",
   "execution_count": null,
   "metadata": {},
   "outputs": [],
   "source": [
    "visualize.plot_stats(stats, ylog=False, view=True)\n"
   ]
  },
  {
   "cell_type": "code",
   "execution_count": null,
   "metadata": {},
   "outputs": [],
   "source": [
    "visualize.plot_species(stats, view=True)"
   ]
  },
  {
   "attachments": {},
   "cell_type": "markdown",
   "metadata": {},
   "source": [
    "# Hidden"
   ]
  },
  {
   "cell_type": "code",
   "execution_count": null,
   "metadata": {},
   "outputs": [],
   "source": [
    "import matplotlib.pyplot as plt\n",
    "plt.rcParams[\"figure.figsize\"] = (200,200)\n",
    "graph = graphviz.Source.from_file('winner-mnist.gv')\n",
    "graph\n"
   ]
  }
 ],
 "metadata": {
  "kernelspec": {
   "display_name": "Python 3",
   "language": "python",
   "name": "python3"
  },
  "language_info": {
   "codemirror_mode": {
    "name": "ipython",
    "version": 3
   },
   "file_extension": ".py",
   "mimetype": "text/x-python",
   "name": "python",
   "nbconvert_exporter": "python",
   "pygments_lexer": "ipython3",
   "version": "3.10.5"
  },
  "orig_nbformat": 4
 },
 "nbformat": 4,
 "nbformat_minor": 2
}

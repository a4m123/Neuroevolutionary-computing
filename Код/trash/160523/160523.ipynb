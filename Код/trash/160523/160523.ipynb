{
 "cells": [
  {
   "cell_type": "code",
   "execution_count": 16,
   "metadata": {},
   "outputs": [],
   "source": [
    "import torch\n",
    "import torchvision\n",
    "import neat"
   ]
  },
  {
   "cell_type": "code",
   "execution_count": 21,
   "metadata": {},
   "outputs": [],
   "source": [
    "def evaluate_network(genome, config):\n",
    "    net = neat.nn.FeedForwardNetwork.create(genome, config)\n",
    "\n",
    "    # Load MNIST dataset\n",
    "    transform = torchvision.transforms.Compose([\n",
    "        torchvision.transforms.ToTensor(),\n",
    "        torchvision.transforms.Normalize((0.1307,), (0.3081,))\n",
    "    ])\n",
    "    test_dataset = torchvision.datasets.MNIST(\n",
    "        root='./data', train=False, download=True, transform=transform\n",
    "    )\n",
    "    test_loader = torch.utils.data.DataLoader(\n",
    "        test_dataset, batch_size=1, shuffle=False\n",
    "    )\n",
    "\n",
    "    net = net.cuda()  # Move the network to CUDA\n",
    "\n",
    "    total_correct = 0\n",
    "    for inputs, labels in test_loader:\n",
    "        inputs = inputs.cuda()  # Move the inputs to CUDA\n",
    "        output = net(torch.flatten(inputs, start_dim=1))\n",
    "        predicted = output.argmax(dim=1)\n",
    "        total_correct += int(predicted == labels.item())\n",
    "\n",
    "    return total_correct / len(test_loader)\n"
   ]
  },
  {
   "cell_type": "code",
   "execution_count": 27,
   "metadata": {},
   "outputs": [],
   "source": [
    "config_path = \"A:/Профиль/Rab Table/Учёба/2/Neuroevolutionary-computing/Код/160523/config-mnist\"  # Path to your NEAT configuration file\n",
    "config = neat.Config(neat.DefaultGenome, neat.DefaultReproduction,\n",
    "                     neat.DefaultSpeciesSet, neat.DefaultStagnation,\n",
    "                     config_path)\n"
   ]
  },
  {
   "cell_type": "code",
   "execution_count": 28,
   "metadata": {},
   "outputs": [
    {
     "name": "stdout",
     "output_type": "stream",
     "text": [
      "\n",
      " ****** Running generation 0 ****** \n",
      "\n"
     ]
    },
    {
     "ename": "AttributeError",
     "evalue": "'list' object has no attribute 'connections'",
     "output_type": "error",
     "traceback": [
      "\u001b[1;31m---------------------------------------------------------------------------\u001b[0m",
      "\u001b[1;31mAttributeError\u001b[0m                            Traceback (most recent call last)",
      "\u001b[1;32ma:\\Профиль\\Rab Table\\Учёба\\2\\Neuroevolutionary-computing\\Код\\160523\\160523.ipynb Cell 4\u001b[0m in \u001b[0;36m1\n\u001b[0;32m      <a href='vscode-notebook-cell:/a%3A/%D0%9F%D1%80%D0%BE%D1%84%D0%B8%D0%BB%D1%8C/Rab%20Table/%D0%A3%D1%87%D1%91%D0%B1%D0%B0/2/Neuroevolutionary-computing/%D0%9A%D0%BE%D0%B4/160523/160523.ipynb#W6sZmlsZQ%3D%3D?line=8'>9</a>\u001b[0m     \u001b[39mprint\u001b[39m(\u001b[39m'\u001b[39m\u001b[39m\\n\u001b[39;00m\u001b[39mBest genome:\u001b[39m\u001b[39m\\n\u001b[39;00m\u001b[39m{!s}\u001b[39;00m\u001b[39m'\u001b[39m\u001b[39m.\u001b[39mformat(winner))\n\u001b[0;32m     <a href='vscode-notebook-cell:/a%3A/%D0%9F%D1%80%D0%BE%D1%84%D0%B8%D0%BB%D1%8C/Rab%20Table/%D0%A3%D1%87%D1%91%D0%B1%D0%B0/2/Neuroevolutionary-computing/%D0%9A%D0%BE%D0%B4/160523/160523.ipynb#W6sZmlsZQ%3D%3D?line=10'>11</a>\u001b[0m \u001b[39mif\u001b[39;00m \u001b[39m__name__\u001b[39m \u001b[39m==\u001b[39m \u001b[39m'\u001b[39m\u001b[39m__main__\u001b[39m\u001b[39m'\u001b[39m:\n\u001b[1;32m---> <a href='vscode-notebook-cell:/a%3A/%D0%9F%D1%80%D0%BE%D1%84%D0%B8%D0%BB%D1%8C/Rab%20Table/%D0%A3%D1%87%D1%91%D0%B1%D0%B0/2/Neuroevolutionary-computing/%D0%9A%D0%BE%D0%B4/160523/160523.ipynb#W6sZmlsZQ%3D%3D?line=11'>12</a>\u001b[0m     run_neat(config)\n",
      "\u001b[1;32ma:\\Профиль\\Rab Table\\Учёба\\2\\Neuroevolutionary-computing\\Код\\160523\\160523.ipynb Cell 4\u001b[0m in \u001b[0;36m7\n\u001b[0;32m      <a href='vscode-notebook-cell:/a%3A/%D0%9F%D1%80%D0%BE%D1%84%D0%B8%D0%BB%D1%8C/Rab%20Table/%D0%A3%D1%87%D1%91%D0%B1%D0%B0/2/Neuroevolutionary-computing/%D0%9A%D0%BE%D0%B4/160523/160523.ipynb#W6sZmlsZQ%3D%3D?line=3'>4</a>\u001b[0m pop\u001b[39m.\u001b[39madd_reporter(stats)\n\u001b[0;32m      <a href='vscode-notebook-cell:/a%3A/%D0%9F%D1%80%D0%BE%D1%84%D0%B8%D0%BB%D1%8C/Rab%20Table/%D0%A3%D1%87%D1%91%D0%B1%D0%B0/2/Neuroevolutionary-computing/%D0%9A%D0%BE%D0%B4/160523/160523.ipynb#W6sZmlsZQ%3D%3D?line=4'>5</a>\u001b[0m pop\u001b[39m.\u001b[39madd_reporter(neat\u001b[39m.\u001b[39mStdOutReporter(\u001b[39mTrue\u001b[39;00m))\n\u001b[1;32m----> <a href='vscode-notebook-cell:/a%3A/%D0%9F%D1%80%D0%BE%D1%84%D0%B8%D0%BB%D1%8C/Rab%20Table/%D0%A3%D1%87%D1%91%D0%B1%D0%B0/2/Neuroevolutionary-computing/%D0%9A%D0%BE%D0%B4/160523/160523.ipynb#W6sZmlsZQ%3D%3D?line=6'>7</a>\u001b[0m winner \u001b[39m=\u001b[39m pop\u001b[39m.\u001b[39;49mrun(evaluate_network, \u001b[39m100\u001b[39;49m)  \u001b[39m# Run NEAT for 100 generations\u001b[39;00m\n\u001b[0;32m      <a href='vscode-notebook-cell:/a%3A/%D0%9F%D1%80%D0%BE%D1%84%D0%B8%D0%BB%D1%8C/Rab%20Table/%D0%A3%D1%87%D1%91%D0%B1%D0%B0/2/Neuroevolutionary-computing/%D0%9A%D0%BE%D0%B4/160523/160523.ipynb#W6sZmlsZQ%3D%3D?line=8'>9</a>\u001b[0m \u001b[39mprint\u001b[39m(\u001b[39m'\u001b[39m\u001b[39m\\n\u001b[39;00m\u001b[39mBest genome:\u001b[39m\u001b[39m\\n\u001b[39;00m\u001b[39m{!s}\u001b[39;00m\u001b[39m'\u001b[39m\u001b[39m.\u001b[39mformat(winner))\n",
      "File \u001b[1;32mc:\\Users\\artem\\AppData\\Local\\Programs\\Python\\Python310\\lib\\site-packages\\neat\\population.py:89\u001b[0m, in \u001b[0;36mPopulation.run\u001b[1;34m(self, fitness_function, n)\u001b[0m\n\u001b[0;32m     86\u001b[0m \u001b[39mself\u001b[39m\u001b[39m.\u001b[39mreporters\u001b[39m.\u001b[39mstart_generation(\u001b[39mself\u001b[39m\u001b[39m.\u001b[39mgeneration)\n\u001b[0;32m     88\u001b[0m \u001b[39m# Evaluate all genomes using the user-provided function.\u001b[39;00m\n\u001b[1;32m---> 89\u001b[0m fitness_function(\u001b[39mlist\u001b[39;49m(iteritems(\u001b[39mself\u001b[39;49m\u001b[39m.\u001b[39;49mpopulation)), \u001b[39mself\u001b[39;49m\u001b[39m.\u001b[39;49mconfig)\n\u001b[0;32m     91\u001b[0m \u001b[39m# Gather and report statistics.\u001b[39;00m\n\u001b[0;32m     92\u001b[0m best \u001b[39m=\u001b[39m \u001b[39mNone\u001b[39;00m\n",
      "\u001b[1;32ma:\\Профиль\\Rab Table\\Учёба\\2\\Neuroevolutionary-computing\\Код\\160523\\160523.ipynb Cell 4\u001b[0m in \u001b[0;36m2\n\u001b[0;32m      <a href='vscode-notebook-cell:/a%3A/%D0%9F%D1%80%D0%BE%D1%84%D0%B8%D0%BB%D1%8C/Rab%20Table/%D0%A3%D1%87%D1%91%D0%B1%D0%B0/2/Neuroevolutionary-computing/%D0%9A%D0%BE%D0%B4/160523/160523.ipynb#W6sZmlsZQ%3D%3D?line=0'>1</a>\u001b[0m \u001b[39mdef\u001b[39;00m \u001b[39mevaluate_network\u001b[39m(genome, config):\n\u001b[1;32m----> <a href='vscode-notebook-cell:/a%3A/%D0%9F%D1%80%D0%BE%D1%84%D0%B8%D0%BB%D1%8C/Rab%20Table/%D0%A3%D1%87%D1%91%D0%B1%D0%B0/2/Neuroevolutionary-computing/%D0%9A%D0%BE%D0%B4/160523/160523.ipynb#W6sZmlsZQ%3D%3D?line=1'>2</a>\u001b[0m     net \u001b[39m=\u001b[39m neat\u001b[39m.\u001b[39;49mnn\u001b[39m.\u001b[39;49mFeedForwardNetwork\u001b[39m.\u001b[39;49mcreate(genome, config)\n\u001b[0;32m      <a href='vscode-notebook-cell:/a%3A/%D0%9F%D1%80%D0%BE%D1%84%D0%B8%D0%BB%D1%8C/Rab%20Table/%D0%A3%D1%87%D1%91%D0%B1%D0%B0/2/Neuroevolutionary-computing/%D0%9A%D0%BE%D0%B4/160523/160523.ipynb#W6sZmlsZQ%3D%3D?line=3'>4</a>\u001b[0m     \u001b[39m# Load MNIST dataset\u001b[39;00m\n\u001b[0;32m      <a href='vscode-notebook-cell:/a%3A/%D0%9F%D1%80%D0%BE%D1%84%D0%B8%D0%BB%D1%8C/Rab%20Table/%D0%A3%D1%87%D1%91%D0%B1%D0%B0/2/Neuroevolutionary-computing/%D0%9A%D0%BE%D0%B4/160523/160523.ipynb#W6sZmlsZQ%3D%3D?line=4'>5</a>\u001b[0m     transform \u001b[39m=\u001b[39m torchvision\u001b[39m.\u001b[39mtransforms\u001b[39m.\u001b[39mCompose([\n\u001b[0;32m      <a href='vscode-notebook-cell:/a%3A/%D0%9F%D1%80%D0%BE%D1%84%D0%B8%D0%BB%D1%8C/Rab%20Table/%D0%A3%D1%87%D1%91%D0%B1%D0%B0/2/Neuroevolutionary-computing/%D0%9A%D0%BE%D0%B4/160523/160523.ipynb#W6sZmlsZQ%3D%3D?line=5'>6</a>\u001b[0m         torchvision\u001b[39m.\u001b[39mtransforms\u001b[39m.\u001b[39mToTensor(),\n\u001b[0;32m      <a href='vscode-notebook-cell:/a%3A/%D0%9F%D1%80%D0%BE%D1%84%D0%B8%D0%BB%D1%8C/Rab%20Table/%D0%A3%D1%87%D1%91%D0%B1%D0%B0/2/Neuroevolutionary-computing/%D0%9A%D0%BE%D0%B4/160523/160523.ipynb#W6sZmlsZQ%3D%3D?line=6'>7</a>\u001b[0m         torchvision\u001b[39m.\u001b[39mtransforms\u001b[39m.\u001b[39mNormalize((\u001b[39m0.1307\u001b[39m,), (\u001b[39m0.3081\u001b[39m,))\n\u001b[0;32m      <a href='vscode-notebook-cell:/a%3A/%D0%9F%D1%80%D0%BE%D1%84%D0%B8%D0%BB%D1%8C/Rab%20Table/%D0%A3%D1%87%D1%91%D0%B1%D0%B0/2/Neuroevolutionary-computing/%D0%9A%D0%BE%D0%B4/160523/160523.ipynb#W6sZmlsZQ%3D%3D?line=7'>8</a>\u001b[0m     ])\n",
      "File \u001b[1;32mc:\\Users\\artem\\AppData\\Local\\Programs\\Python\\Python310\\lib\\site-packages\\neat\\nn\\feed_forward.py:33\u001b[0m, in \u001b[0;36mFeedForwardNetwork.create\u001b[1;34m(genome, config)\u001b[0m\n\u001b[0;32m     30\u001b[0m \u001b[39m\"\"\" Receives a genome and returns its phenotype (a FeedForwardNetwork). \"\"\"\u001b[39;00m\n\u001b[0;32m     32\u001b[0m \u001b[39m# Gather expressed connections.\u001b[39;00m\n\u001b[1;32m---> 33\u001b[0m connections \u001b[39m=\u001b[39m [cg\u001b[39m.\u001b[39mkey \u001b[39mfor\u001b[39;00m cg \u001b[39min\u001b[39;00m itervalues(genome\u001b[39m.\u001b[39;49mconnections) \u001b[39mif\u001b[39;00m cg\u001b[39m.\u001b[39menabled]\n\u001b[0;32m     35\u001b[0m layers \u001b[39m=\u001b[39m feed_forward_layers(config\u001b[39m.\u001b[39mgenome_config\u001b[39m.\u001b[39minput_keys, config\u001b[39m.\u001b[39mgenome_config\u001b[39m.\u001b[39moutput_keys, connections)\n\u001b[0;32m     36\u001b[0m node_evals \u001b[39m=\u001b[39m []\n",
      "\u001b[1;31mAttributeError\u001b[0m: 'list' object has no attribute 'connections'"
     ]
    }
   ],
   "source": [
    "def run_neat(config):\n",
    "    pop = neat.Population(config)\n",
    "    stats = neat.StatisticsReporter()\n",
    "    pop.add_reporter(stats)\n",
    "    pop.add_reporter(neat.StdOutReporter(True))\n",
    "\n",
    "    winner = pop.run(evaluate_network, 100)  # Run NEAT for 100 generations\n",
    "\n",
    "    print('\\nBest genome:\\n{!s}'.format(winner))\n",
    "\n",
    "if __name__ == '__main__':\n",
    "    run_neat(config)\n"
   ]
  }
 ],
 "metadata": {
  "kernelspec": {
   "display_name": "Python 3",
   "language": "python",
   "name": "python3"
  },
  "language_info": {
   "codemirror_mode": {
    "name": "ipython",
    "version": 3
   },
   "file_extension": ".py",
   "mimetype": "text/x-python",
   "name": "python",
   "nbconvert_exporter": "python",
   "pygments_lexer": "ipython3",
   "version": "3.10.5"
  },
  "orig_nbformat": 4
 },
 "nbformat": 4,
 "nbformat_minor": 2
}

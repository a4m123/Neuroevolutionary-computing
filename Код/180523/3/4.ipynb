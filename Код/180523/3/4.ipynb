{
 "cells": [
  {
   "cell_type": "code",
   "execution_count": 1,
   "metadata": {},
   "outputs": [],
   "source": [
    "import neat\n",
    "import visualize\n",
    "import numpy as np\n",
    "import matplotlib.pyplot as plt\n",
    "import pandas as pd\n",
    "import os\n"
   ]
  },
  {
   "cell_type": "code",
   "execution_count": null,
   "metadata": {},
   "outputs": [],
   "source": [
    "# implement NEAT algorithm for random data, where input shape - a vector of 10 elements, output - 1 element\n",
    "# fitness function - MSE\n",
    "\n",
    "# create random data\n",
    "def create_data():\n",
    "    x = np.random.rand(100, 10)\n",
    "    y = np.random.rand(100, 1)\n",
    "    return x, y\n",
    "\n",
    "# create fitness function\n",
    "def fitness_function(genomes, config):\n",
    "    for genome_id, genome in genomes:\n",
    "        genome.fitness = 4.0\n",
    "        net = neat.nn.FeedForwardNetwork.create(genome, config)\n",
    "        for xi, xo in zip(x, y):\n",
    "            output = net.activate(xi)\n",
    "            genome.fitness -= (output[0] - xo[0]) ** 2\n",
    "\n",
    "# create config\n",
    "def create_config():\n",
    "    local_dir = os.getcwd()\n",
    "    config_path = os.path.join(local_dir, 'config-feedforward.txt')\n",
    "    config = neat.Config(neat.DefaultGenome, neat.DefaultReproduction, neat.DefaultSpeciesSet,\n",
    "                         neat.DefaultStagnation, config_path)\n",
    "    return config\n",
    "\n",
    "# create population\n",
    "def create_population(config):\n",
    "    p = neat.Population(config)\n",
    "    return p\n",
    "\n",
    "# create statistics\n",
    "def create_statistics():\n",
    "    stats = neat.StatisticsReporter()\n",
    "    return stats\n",
    "\n",
    "# create checkpoint\n",
    "def create_checkpoint():\n",
    "    checkpoint = neat.Checkpointer(5)\n",
    "    return checkpoint\n",
    "\n"
   ]
  }
 ],
 "metadata": {
  "kernelspec": {
   "display_name": "Python 3",
   "language": "python",
   "name": "python3"
  },
  "language_info": {
   "codemirror_mode": {
    "name": "ipython",
    "version": 3
   },
   "file_extension": ".py",
   "mimetype": "text/x-python",
   "name": "python",
   "nbconvert_exporter": "python",
   "pygments_lexer": "ipython3",
   "version": "3.10.5"
  },
  "orig_nbformat": 4
 },
 "nbformat": 4,
 "nbformat_minor": 2
}

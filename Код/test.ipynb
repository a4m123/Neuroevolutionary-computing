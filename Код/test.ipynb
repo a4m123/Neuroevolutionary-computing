{
 "cells": [
  {
   "cell_type": "code",
   "execution_count": 1,
   "metadata": {},
   "outputs": [],
   "source": [
    "# pyright: reportMissingImports=false\n",
    "import neat\n",
    "import numpy as np\n",
    "#from tensorflow.keras.datasets import mnist\n",
    "from keras.utils import plot_model\n",
    "\n",
    "\n",
    "#(train_images, train_labels), (test_images, test_labels) = mnist.load_data()\n",
    "#train_images = train_images.reshape((len(train_images), 28*28)) / 255\n",
    "#test_images = test_images.reshape((len(test_images), 28*28)) / 255\n",
    "#train_labels = keras.utils.to_categorical(train_labels, 10)\n",
    "#test_labels = keras.utils.to_categorical(test_labels, 10)\n",
    "\n",
    "# load data from Drum Station 1.dt file\n",
    "#train_images = np.loadtxt('A:/Профиль/Rab Table/Учёба/2/нейроэволюционные/Методические/data_to_use/cancer1.dt', delimiter=',', usecols=range(0, 9))\n",
    "filename = 'A:/Профиль/Rab Table/Учёба/2/нейроэволюционные/Методические/data_to_use/cancer1 copy.dt'\n",
    "raw_data = np.loadtxt(filename)\n",
    "\n",
    "# what are modules to work with .dt files?\n",
    "# https://stackoverflow.com/questions/17912307/u-ufeff-in-python-string"
   ]
  },
  {
   "cell_type": "code",
   "execution_count": 2,
   "metadata": {},
   "outputs": [
    {
     "name": "stdout",
     "output_type": "stream",
     "text": [
      "[[0.2 0.1 0.1 ... 0.1 1.  0. ]\n",
      " [0.2 0.1 0.1 ... 0.1 1.  0. ]\n",
      " [0.5 0.1 0.1 ... 0.1 1.  0. ]\n",
      " ...\n",
      " [0.6 1.  1.  ... 0.7 0.  1. ]\n",
      " [0.5 0.7 1.  ... 0.1 0.  1. ]\n",
      " [0.1 0.1 0.1 ... 0.1 1.  0. ]]\n"
     ]
    }
   ],
   "source": [
    "print(raw_data)"
   ]
  },
  {
   "cell_type": "code",
   "execution_count": 27,
   "metadata": {},
   "outputs": [
    {
     "name": "stdout",
     "output_type": "stream",
     "text": [
      "(1.0,)\n",
      "(0.2, 0.1, 0.1, 0.1, 0.2, 0.1, 0.2, 0.1, 0.1)\n"
     ]
    }
   ],
   "source": [
    "# make x and y from x\n",
    "y = raw_data[:, 9] # [: , 9] - это значит, что мы берем все строки, но только столбец с индексом 9\n",
    "x = raw_data[:, 0:9]\n",
    "y = y.astype(float)\n",
    "\n",
    "# make a list 'inputs' of sets from x like this: [(0.0, 0.0), (0.0, 1.0), (1.0, 0.0), (1.0, 1.0)]\n",
    "inputs = []\n",
    "for i in range(len(x)):\n",
    "    inputs.append(tuple(x[i]))\n",
    "\n",
    "# make a list 'outputs' of sets from y like this: [(0.0,), (1.0,), (1.0,), (0.0,)]\n",
    "outputs = []\n",
    "for i in range(len(y)):\n",
    "    outputs.append(tuple([y[i]]))\n",
    "\n",
    "print(outputs[0])\n",
    "print(inputs[0])\n",
    "\n"
   ]
  },
  {
   "cell_type": "code",
   "execution_count": 28,
   "metadata": {},
   "outputs": [],
   "source": [
    "# split x and y into train, validation, test sets\n",
    "from sklearn.model_selection import train_test_split\n",
    "x_train, x_test, y_train, y_test = train_test_split(inputs, outputs, test_size=0.75)\n",
    "\n",
    "# convert y to one-hot\n",
    "#y_train = keras.utils.to_categorical(y_train, 2)\n",
    "#y_test = keras.utils.to_categorical(y_test, 2)"
   ]
  },
  {
   "cell_type": "code",
   "execution_count": 29,
   "metadata": {},
   "outputs": [
    {
     "name": "stdout",
     "output_type": "stream",
     "text": [
      "(0.1, 0.1, 0.1, 0.1, 0.2, 0.1, 0.2, 0.1, 0.2)\n",
      "(1.0,)\n",
      "(0.2, 0.1, 0.1, 0.1, 0.2, 0.1, 0.3, 0.1, 0.1)\n",
      "(1.0,)\n"
     ]
    }
   ],
   "source": [
    "print(x_train[1])\n",
    "print(y_train[1])\n",
    "print(x_test[1])\n",
    "print(y_test[1])"
   ]
  },
  {
   "cell_type": "code",
   "execution_count": 31,
   "metadata": {},
   "outputs": [],
   "source": [
    "import pickle\n",
    "import visualize\n",
    "import graphviz"
   ]
  },
  {
   "cell_type": "code",
   "execution_count": 32,
   "metadata": {},
   "outputs": [
    {
     "data": {
      "text/plain": [
       "174"
      ]
     },
     "execution_count": 32,
     "metadata": {},
     "output_type": "execute_result"
    }
   ],
   "source": [
    "len(x_train)"
   ]
  },
  {
   "cell_type": "code",
   "execution_count": 37,
   "metadata": {},
   "outputs": [
    {
     "name": "stdout",
     "output_type": "stream",
     "text": [
      "Accuracy: 0.35428571428571426\n"
     ]
    }
   ],
   "source": [
    "def eval_genomes(genomes, config):\n",
    "    for genome_id, genome in genomes:\n",
    "        net = neat.nn.FeedForwardNetwork.create(genome, config)\n",
    "        fitness = len(x_train)\n",
    "        for xi, xo in zip(x_train, y_train):\n",
    "            output = net.activate(xi)\n",
    "            output = tuple(output)\n",
    "            try:\n",
    "                fitness += (output[0] - xo[0]) ** 2\n",
    "            except Exception as e:\n",
    "                print(output)\n",
    "                print(xo)\n",
    "                print(xi)\n",
    "                print(e)\n",
    "                raise e\n",
    "        genome.fitness = fitness\n",
    "\n",
    "def main():\n",
    "    config_path = 'A:/Профиль/Rab Table/Учёба/2/Neuroevolutionary-computing/Код/config-mnist'\n",
    "    config = neat.Config(neat.DefaultGenome, neat.DefaultReproduction,\n",
    "                         neat.DefaultSpeciesSet, neat.DefaultStagnation,\n",
    "                         config_path)\n",
    "\n",
    "    population = neat.Population(config)\n",
    "    winner = population.run(eval_genomes, n = 100)\n",
    "\n",
    "    winner_net = neat.nn.FeedForwardNetwork.create(winner, config)\n",
    "    correct = 0\n",
    "    for xi, xo in zip(x_test, y_test):\n",
    "        output = winner_net.activate(xi)\n",
    "        if np.argmax(output) == xo:\n",
    "            correct += 1\n",
    "    print('Accuracy:', correct / len(y_test))\n",
    "\n",
    "    # Save the winner.\n",
    "    with open('winner-mnist', 'wb') as f:\n",
    "        pickle.dump(winner, f)\n",
    "    \n",
    "    import my_visualize as visualize\n",
    "\n",
    "\n",
    "if __name__ == \"__main__\":\n",
    "    main()"
   ]
  }
 ],
 "metadata": {
  "kernelspec": {
   "display_name": "Python 3",
   "language": "python",
   "name": "python3"
  },
  "language_info": {
   "codemirror_mode": {
    "name": "ipython",
    "version": 3
   },
   "file_extension": ".py",
   "mimetype": "text/x-python",
   "name": "python",
   "nbconvert_exporter": "python",
   "pygments_lexer": "ipython3",
   "version": "3.10.5"
  },
  "orig_nbformat": 4
 },
 "nbformat": 4,
 "nbformat_minor": 2
}
